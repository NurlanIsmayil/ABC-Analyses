{
 "cells": [
  {
   "cell_type": "markdown",
   "id": "a4463716-1122-4a4b-9cb8-8d1208d98b3c",
   "metadata": {},
   "source": [
    "### Created By: Nurlan Ismayil\n"
   ]
  },
  {
   "cell_type": "markdown",
   "id": "adf59d82-2bc1-4657-abdd-48ac0fff738a",
   "metadata": {},
   "source": [
    "# Exploratory Data Analysis"
   ]
  },
  {
   "cell_type": "code",
   "execution_count": 1,
   "id": "10564781-4b37-4902-a7c0-dbb130852502",
   "metadata": {},
   "outputs": [],
   "source": [
    "import pandas as pd\n",
    "import numpy as np\n",
    "import seaborn as sns\n",
    "sns.set_theme(style=\"darkgrid\")\n",
    "import inventorize3 as inv\n",
    "import matplotlib.pyplot as plt\n",
    "%matplotlib inline\n",
    "\n",
    "import warnings\n",
    "warnings.filterwarnings(\"ignore\")"
   ]
  },
  {
   "cell_type": "code",
   "execution_count": 2,
   "id": "2aa54064-5cc2-44a0-bf43-52aca9329388",
   "metadata": {},
   "outputs": [
    {
     "data": {
      "text/html": [
       "<div>\n",
       "<style scoped>\n",
       "    .dataframe tbody tr th:only-of-type {\n",
       "        vertical-align: middle;\n",
       "    }\n",
       "\n",
       "    .dataframe tbody tr th {\n",
       "        vertical-align: top;\n",
       "    }\n",
       "\n",
       "    .dataframe thead th {\n",
       "        text-align: right;\n",
       "    }\n",
       "</style>\n",
       "<table border=\"1\" class=\"dataframe\">\n",
       "  <thead>\n",
       "    <tr style=\"text-align: right;\">\n",
       "      <th></th>\n",
       "      <th>order_id</th>\n",
       "      <th>product</th>\n",
       "      <th>product_code</th>\n",
       "      <th>category</th>\n",
       "      <th>address</th>\n",
       "      <th>quantity</th>\n",
       "      <th>price</th>\n",
       "      <th>cost</th>\n",
       "      <th>sales</th>\n",
       "      <th>gross_profit</th>\n",
       "      <th>order_date</th>\n",
       "      <th>gross_margin</th>\n",
       "      <th>period</th>\n",
       "      <th>dow</th>\n",
       "      <th>hour</th>\n",
       "      <th>date</th>\n",
       "      <th>revenue</th>\n",
       "    </tr>\n",
       "  </thead>\n",
       "  <tbody>\n",
       "    <tr>\n",
       "      <th>0</th>\n",
       "      <td>141234</td>\n",
       "      <td>iPhone</td>\n",
       "      <td>5638008983335</td>\n",
       "      <td>smartphones</td>\n",
       "      <td>Germany</td>\n",
       "      <td>1</td>\n",
       "      <td>700.00</td>\n",
       "      <td>231.0000</td>\n",
       "      <td>700.00</td>\n",
       "      <td>469.0000</td>\n",
       "      <td>2023-01-22 21:25:00</td>\n",
       "      <td>0.67</td>\n",
       "      <td>2023-01</td>\n",
       "      <td>Sunday</td>\n",
       "      <td>09 PM</td>\n",
       "      <td>2023-01-22</td>\n",
       "      <td>700.00</td>\n",
       "    </tr>\n",
       "    <tr>\n",
       "      <th>1</th>\n",
       "      <td>141235</td>\n",
       "      <td>Lightning Charging Cable</td>\n",
       "      <td>5563319511488</td>\n",
       "      <td>charging cables</td>\n",
       "      <td>İtaly</td>\n",
       "      <td>1</td>\n",
       "      <td>14.95</td>\n",
       "      <td>7.4750</td>\n",
       "      <td>14.95</td>\n",
       "      <td>7.4750</td>\n",
       "      <td>2023-01-28 14:15:00</td>\n",
       "      <td>0.50</td>\n",
       "      <td>2023-01</td>\n",
       "      <td>Saturday</td>\n",
       "      <td>02 PM</td>\n",
       "      <td>2023-01-28</td>\n",
       "      <td>14.95</td>\n",
       "    </tr>\n",
       "    <tr>\n",
       "      <th>2</th>\n",
       "      <td>141236</td>\n",
       "      <td>Wired Headphones</td>\n",
       "      <td>2113973395220</td>\n",
       "      <td>headphones</td>\n",
       "      <td>Ispain</td>\n",
       "      <td>2</td>\n",
       "      <td>11.99</td>\n",
       "      <td>5.9950</td>\n",
       "      <td>23.98</td>\n",
       "      <td>11.9900</td>\n",
       "      <td>2023-01-17 13:33:00</td>\n",
       "      <td>0.50</td>\n",
       "      <td>2023-01</td>\n",
       "      <td>Tuesday</td>\n",
       "      <td>01 PM</td>\n",
       "      <td>2023-01-17</td>\n",
       "      <td>23.98</td>\n",
       "    </tr>\n",
       "    <tr>\n",
       "      <th>3</th>\n",
       "      <td>141237</td>\n",
       "      <td>27in FHD Monitor</td>\n",
       "      <td>3069156759167</td>\n",
       "      <td>monitors</td>\n",
       "      <td>Irland</td>\n",
       "      <td>1</td>\n",
       "      <td>149.99</td>\n",
       "      <td>97.4935</td>\n",
       "      <td>149.99</td>\n",
       "      <td>52.4965</td>\n",
       "      <td>2023-01-05 20:33:00</td>\n",
       "      <td>0.35</td>\n",
       "      <td>2023-01</td>\n",
       "      <td>Thursday</td>\n",
       "      <td>08 PM</td>\n",
       "      <td>2023-01-05</td>\n",
       "      <td>149.99</td>\n",
       "    </tr>\n",
       "    <tr>\n",
       "      <th>4</th>\n",
       "      <td>141238</td>\n",
       "      <td>Wired Headphones</td>\n",
       "      <td>9692680938163</td>\n",
       "      <td>headphones</td>\n",
       "      <td>France</td>\n",
       "      <td>1</td>\n",
       "      <td>11.99</td>\n",
       "      <td>5.9950</td>\n",
       "      <td>11.99</td>\n",
       "      <td>5.9950</td>\n",
       "      <td>2023-01-25 11:59:00</td>\n",
       "      <td>0.50</td>\n",
       "      <td>2023-01</td>\n",
       "      <td>Wednesday</td>\n",
       "      <td>11 AM</td>\n",
       "      <td>2023-01-25</td>\n",
       "      <td>11.99</td>\n",
       "    </tr>\n",
       "  </tbody>\n",
       "</table>\n",
       "</div>"
      ],
      "text/plain": [
       "   order_id                   product   product_code         category  \\\n",
       "0    141234                    iPhone  5638008983335      smartphones   \n",
       "1    141235  Lightning Charging Cable  5563319511488  charging cables   \n",
       "2    141236          Wired Headphones  2113973395220       headphones   \n",
       "3    141237          27in FHD Monitor  3069156759167         monitors   \n",
       "4    141238          Wired Headphones  9692680938163       headphones   \n",
       "\n",
       "    address  quantity   price      cost   sales  gross_profit  \\\n",
       "0   Germany         1  700.00  231.0000  700.00      469.0000   \n",
       "1     İtaly         1   14.95    7.4750   14.95        7.4750   \n",
       "2    Ispain         2   11.99    5.9950   23.98       11.9900   \n",
       "3    Irland         1  149.99   97.4935  149.99       52.4965   \n",
       "4    France         1   11.99    5.9950   11.99        5.9950   \n",
       "\n",
       "            order_date  gross_margin   period        dow   hour        date  \\\n",
       "0  2023-01-22 21:25:00          0.67  2023-01     Sunday  09 PM  2023-01-22   \n",
       "1  2023-01-28 14:15:00          0.50  2023-01   Saturday  02 PM  2023-01-28   \n",
       "2  2023-01-17 13:33:00          0.50  2023-01    Tuesday  01 PM  2023-01-17   \n",
       "3  2023-01-05 20:33:00          0.35  2023-01   Thursday  08 PM  2023-01-05   \n",
       "4  2023-01-25 11:59:00          0.50  2023-01  Wednesday  11 AM  2023-01-25   \n",
       "\n",
       "   revenue  \n",
       "0   700.00  \n",
       "1    14.95  \n",
       "2    23.98  \n",
       "3   149.99  \n",
       "4    11.99  "
      ]
     },
     "execution_count": 2,
     "metadata": {},
     "output_type": "execute_result"
    }
   ],
   "source": [
    "dosya_yolu = r'C:\\\\Users\\\\The Capri Hotel\\\\Downloads\\\\sales_final_data.csv'\n",
    "sales = pd.read_csv(dosya_yolu);sales.head()"
   ]
  },
  {
   "cell_type": "markdown",
   "id": "fec6b9fd-a284-4c09-93ac-32b9e1079782",
   "metadata": {},
   "source": [
    "### 1. 2023 Sales Performanceld"
   ]
  },
  {
   "cell_type": "code",
   "execution_count": 5,
   "id": "7c878984-0bfb-4169-aff3-4cf3a0cd44e9",
   "metadata": {},
   "outputs": [
    {
     "name": "stdout",
     "output_type": "stream",
     "text": [
      "Total sales or GMV for 2023 is: $ 31.24 M\n",
      "Total profit for 2023 is: $ 19.42 M\n",
      "Gross Margin for 2023: 62.15 %\n",
      "Total number of orders for 2023 is: 161119\n"
     ]
    }
   ],
   "source": [
    "total_sales = sales['sales'].sum()\n",
    "total_profit = sales['gross_profit'].sum()\n",
    "num_orders = sales['order_id'].nunique()\n",
    "\n",
    "print(f'Total sales or GMV for 2023 is: ${total_sales/1000000: .2f} M')\n",
    "print(f'Total profit for 2023 is: ${total_profit/1000000: .2f} M')\n",
    "print(f'Gross Margin for 2023:{(total_profit/total_sales) * 100: .2f} %')\n",
    "print(f'Total number of orders for 2023 is: {num_orders:}')"
   ]
  },
  {
   "cell_type": "markdown",
   "id": "1bd4376e-efc4-40c8-bfe8-74caf3af2856",
   "metadata": {},
   "source": [
    "### 2. What are the highest- performing products?\n",
    "    a. Based on profit  \n",
    "    b. based on sales   \n",
    "    c. based on quantity sold"
   ]
  },
  {
   "cell_type": "code",
   "execution_count": 8,
   "id": "3951e9d8-d4a6-48ca-92bf-ac94bde7a384",
   "metadata": {},
   "outputs": [
    {
     "data": {
      "text/plain": [
       "product\n",
       "Macbook Pro Laptop        4.871503e+06\n",
       "iPhone                    2.914835e+06\n",
       "ThinkPad Laptop           2.501755e+06\n",
       "Google Phone              2.023266e+06\n",
       "27in 4K Gaming Monitor    1.473433e+06\n",
       "Name: gross_profit, dtype: float64"
      ]
     },
     "execution_count": 8,
     "metadata": {},
     "output_type": "execute_result"
    }
   ],
   "source": [
    "# What are the top 5 highest-performing products based on profit?\n",
    "\n",
    "top5_prod_profit = sales.groupby(['product'])['gross_profit'].sum().sort_values(ascending=False)[:5]\n",
    "top5_prod_profit"
   ]
  },
  {
   "cell_type": "code",
   "execution_count": 9,
   "id": "579fc44f-6d71-4fca-ab3d-26dc14671c39",
   "metadata": {},
   "outputs": [
    {
     "data": {
      "image/png": "[encoded data removed]",
      "text/plain": [
       "<Figure size 1500x800 with 1 Axes>"
      ]
     },
     "metadata": {},
     "output_type": "display_data"
    }
   ],
   "source": [
    "# Visualize the top 5 highest-performing products based on profit\n",
    "\n",
    "top5_prod_profit = (sales.groupby(['product'])['gross_profit'].sum().sort_values(ascending=False)[:5]/1000000).round(2)\n",
    "\n",
    "plt.figure(figsize = [15, 8])\n",
    "base_color = sns.color_palette()[0]\n",
    "ax = sns.barplot(x = top5_prod_profit.index, y = top5_prod_profit.values, color = base_color)\n",
    "ax.tick_params(axis = 'both', labelsize = 12)\n",
    "ax.bar_label(ax.containers[0], padding = 3)\n",
    "\n",
    "plt.title('Top 5 Highest-performing Products based on Gross Profit', size = 20)\n",
    "plt.xlabel('Products', size = 15)\n",
    "plt.ylabel('Gross Profit (M)', size = 15)\n",
    "plt.show;"
   ]
  },
  {
   "cell_type": "code",
   "execution_count": null,
   "id": "7689b4f0-032f-4573-8d47-0ddfa488251d",
   "metadata": {},
   "outputs": [],
   "source": []
  }
 ],
 "metadata": {
  "kernelspec": {
   "display_name": "Python 3 (ipykernel)",
   "language": "python",
   "name": "python3"
  },
  "language_info": {
   "codemirror_mode": {
    "name": "ipython",
    "version": 3
   },
   "file_extension": ".py",
   "mimetype": "text/x-python",
   "name": "python",
   "nbconvert_exporter": "python",
   "pygments_lexer": "ipython3",
   "version": "3.11.7"
  }
 },
 "nbformat": 4,
 "nbformat_minor": 5
}
